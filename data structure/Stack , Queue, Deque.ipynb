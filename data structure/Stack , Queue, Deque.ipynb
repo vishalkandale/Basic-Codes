{
 "cells": [
  {
   "cell_type": "markdown",
   "id": "01097965",
   "metadata": {},
   "source": [
    "# 1] Stack"
   ]
  },
  {
   "cell_type": "code",
   "execution_count": 47,
   "id": "1a42c6ed",
   "metadata": {},
   "outputs": [],
   "source": [
    "class Stack(object):\n",
    "    def __init__(self):\n",
    "        self.items = []\n",
    "    \n",
    "    def isEmpty(self):\n",
    "        return self.items == []\n",
    "    \n",
    "    def push(self,items):\n",
    "        self.items.append(items)\n",
    "        \n",
    "    def pop(self):\n",
    "        return self.items.pop()\n",
    "    \n",
    "    def peek(self):\n",
    "        return self.items[len(self.items)-1]\n",
    "    \n",
    "    def size(self):\n",
    "        return len(self.items)"
   ]
  },
  {
   "cell_type": "code",
   "execution_count": 48,
   "id": "6698ba28",
   "metadata": {},
   "outputs": [],
   "source": [
    "s = Stack()"
   ]
  },
  {
   "cell_type": "code",
   "execution_count": 49,
   "id": "4bfff715",
   "metadata": {},
   "outputs": [
    {
     "data": {
      "text/plain": [
       "True"
      ]
     },
     "execution_count": 49,
     "metadata": {},
     "output_type": "execute_result"
    }
   ],
   "source": [
    "s.isEmpty()"
   ]
  },
  {
   "cell_type": "code",
   "execution_count": 50,
   "id": "c7145956",
   "metadata": {},
   "outputs": [],
   "source": [
    "s.push(1)"
   ]
  },
  {
   "cell_type": "code",
   "execution_count": 51,
   "id": "ee3889cb",
   "metadata": {},
   "outputs": [],
   "source": [
    "s.push('vishal')"
   ]
  },
  {
   "cell_type": "code",
   "execution_count": 52,
   "id": "4b87b8b9",
   "metadata": {},
   "outputs": [],
   "source": [
    "s.push(True)"
   ]
  },
  {
   "cell_type": "code",
   "execution_count": 53,
   "id": "62947ff6",
   "metadata": {},
   "outputs": [
    {
     "data": {
      "text/plain": [
       "3"
      ]
     },
     "execution_count": 53,
     "metadata": {},
     "output_type": "execute_result"
    }
   ],
   "source": [
    "s.size()"
   ]
  },
  {
   "cell_type": "code",
   "execution_count": 54,
   "id": "ac2a9738",
   "metadata": {},
   "outputs": [
    {
     "data": {
      "text/plain": [
       "True"
      ]
     },
     "execution_count": 54,
     "metadata": {},
     "output_type": "execute_result"
    }
   ],
   "source": [
    "s.peek()"
   ]
  },
  {
   "cell_type": "code",
   "execution_count": 55,
   "id": "ab76c627",
   "metadata": {},
   "outputs": [
    {
     "data": {
      "text/plain": [
       "3"
      ]
     },
     "execution_count": 55,
     "metadata": {},
     "output_type": "execute_result"
    }
   ],
   "source": [
    "s.size()"
   ]
  },
  {
   "cell_type": "code",
   "execution_count": 56,
   "id": "03d0f213",
   "metadata": {},
   "outputs": [
    {
     "data": {
      "text/plain": [
       "True"
      ]
     },
     "execution_count": 56,
     "metadata": {},
     "output_type": "execute_result"
    }
   ],
   "source": [
    "s.pop()"
   ]
  },
  {
   "cell_type": "code",
   "execution_count": 57,
   "id": "faf3e39f",
   "metadata": {},
   "outputs": [
    {
     "data": {
      "text/plain": [
       "'vishal'"
      ]
     },
     "execution_count": 57,
     "metadata": {},
     "output_type": "execute_result"
    }
   ],
   "source": [
    "s.pop()"
   ]
  },
  {
   "cell_type": "code",
   "execution_count": 58,
   "id": "5ea9b568",
   "metadata": {},
   "outputs": [
    {
     "data": {
      "text/plain": [
       "1"
      ]
     },
     "execution_count": 58,
     "metadata": {},
     "output_type": "execute_result"
    }
   ],
   "source": [
    "s.pop()"
   ]
  },
  {
   "cell_type": "code",
   "execution_count": 60,
   "id": "e3923667",
   "metadata": {},
   "outputs": [
    {
     "data": {
      "text/plain": [
       "True"
      ]
     },
     "execution_count": 60,
     "metadata": {},
     "output_type": "execute_result"
    }
   ],
   "source": [
    "s.isEmpty()"
   ]
  },
  {
   "cell_type": "markdown",
   "id": "efc54a71",
   "metadata": {},
   "source": [
    "# 2] Queue"
   ]
  },
  {
   "cell_type": "code",
   "execution_count": 4,
   "id": "effa0a69",
   "metadata": {},
   "outputs": [],
   "source": [
    "class Queue(object):\n",
    "    def __init__(self):\n",
    "        self.items = []\n",
    "    \n",
    "    def isEmpty(self):\n",
    "        return self.items == []\n",
    "    \n",
    "    def enqueue(self,item1):\n",
    "        self.items.insert(0,item1)\n",
    "        \n",
    "    def dequeue(self):\n",
    "        return self.items.pop()\n",
    "        \n",
    "    def size(self):\n",
    "        return len(self.items)"
   ]
  },
  {
   "cell_type": "code",
   "execution_count": 5,
   "id": "ec0a9fec",
   "metadata": {},
   "outputs": [],
   "source": [
    "q = Queue()"
   ]
  },
  {
   "cell_type": "code",
   "execution_count": 6,
   "id": "25fc43d0",
   "metadata": {},
   "outputs": [
    {
     "data": {
      "text/plain": [
       "0"
      ]
     },
     "execution_count": 6,
     "metadata": {},
     "output_type": "execute_result"
    }
   ],
   "source": [
    "q.size()"
   ]
  },
  {
   "cell_type": "code",
   "execution_count": 7,
   "id": "4ad9e7d0",
   "metadata": {},
   "outputs": [
    {
     "data": {
      "text/plain": [
       "True"
      ]
     },
     "execution_count": 7,
     "metadata": {},
     "output_type": "execute_result"
    }
   ],
   "source": [
    "q.isEmpty()"
   ]
  },
  {
   "cell_type": "code",
   "execution_count": 8,
   "id": "a53e5729",
   "metadata": {},
   "outputs": [],
   "source": [
    "q.enqueue(1)"
   ]
  },
  {
   "cell_type": "code",
   "execution_count": 9,
   "id": "ec5feee5",
   "metadata": {},
   "outputs": [],
   "source": [
    "q.enqueue(2)"
   ]
  },
  {
   "cell_type": "code",
   "execution_count": 10,
   "id": "f2c079c6",
   "metadata": {},
   "outputs": [
    {
     "data": {
      "text/plain": [
       "1"
      ]
     },
     "execution_count": 10,
     "metadata": {},
     "output_type": "execute_result"
    }
   ],
   "source": [
    "q.dequeue()"
   ]
  },
  {
   "cell_type": "code",
   "execution_count": 11,
   "id": "e4f702d3",
   "metadata": {},
   "outputs": [
    {
     "data": {
      "text/plain": [
       "2"
      ]
     },
     "execution_count": 11,
     "metadata": {},
     "output_type": "execute_result"
    }
   ],
   "source": [
    "q.dequeue()"
   ]
  },
  {
   "cell_type": "markdown",
   "id": "ac8d24af",
   "metadata": {},
   "source": [
    "# 3] Deque"
   ]
  },
  {
   "cell_type": "code",
   "execution_count": 16,
   "id": "af15219e",
   "metadata": {},
   "outputs": [],
   "source": [
    "class Deque(object):\n",
    "    def __init__(self):\n",
    "        self.items = []\n",
    "    \n",
    "    def isEmpty(self):\n",
    "        return self.items == []\n",
    "    \n",
    "    def addFront(self,item1):\n",
    "        self.items.append(item1)\n",
    "    \n",
    "    def addRear(self,item1):\n",
    "        self.items.insert(0,item1)\n",
    "        \n",
    "    def removeFront(self):\n",
    "        return self.items.pop()\n",
    "    \n",
    "    def removeRear(self):\n",
    "        return self.items.pop(0)\n",
    "    \n",
    "    def size(self):\n",
    "        return len(self.items)"
   ]
  },
  {
   "cell_type": "code",
   "execution_count": 17,
   "id": "2c89d30b",
   "metadata": {},
   "outputs": [],
   "source": [
    "d = Deque()"
   ]
  },
  {
   "cell_type": "code",
   "execution_count": 18,
   "id": "3fdd9ffc",
   "metadata": {},
   "outputs": [
    {
     "data": {
      "text/plain": [
       "0"
      ]
     },
     "execution_count": 18,
     "metadata": {},
     "output_type": "execute_result"
    }
   ],
   "source": [
    "d.size()"
   ]
  },
  {
   "cell_type": "code",
   "execution_count": 19,
   "id": "653fb637",
   "metadata": {},
   "outputs": [
    {
     "data": {
      "text/plain": [
       "True"
      ]
     },
     "execution_count": 19,
     "metadata": {},
     "output_type": "execute_result"
    }
   ],
   "source": [
    "d.isEmpty()"
   ]
  },
  {
   "cell_type": "code",
   "execution_count": 20,
   "id": "bbb5fa34",
   "metadata": {},
   "outputs": [],
   "source": [
    "d.addFront('Vishal')"
   ]
  },
  {
   "cell_type": "code",
   "execution_count": 21,
   "id": "5c4cd912",
   "metadata": {},
   "outputs": [],
   "source": [
    "d.addRear('Kandale')"
   ]
  },
  {
   "cell_type": "code",
   "execution_count": 22,
   "id": "0e4f53d8",
   "metadata": {},
   "outputs": [
    {
     "data": {
      "text/plain": [
       "2"
      ]
     },
     "execution_count": 22,
     "metadata": {},
     "output_type": "execute_result"
    }
   ],
   "source": [
    "d.size()"
   ]
  },
  {
   "cell_type": "code",
   "execution_count": 23,
   "id": "ef97693b",
   "metadata": {},
   "outputs": [
    {
     "name": "stdout",
     "output_type": "stream",
     "text": [
      "Vishal Kandale\n"
     ]
    }
   ],
   "source": [
    "print(d.removeFront() + ' ' + d.removeRear())"
   ]
  },
  {
   "cell_type": "code",
   "execution_count": 24,
   "id": "820716e6",
   "metadata": {},
   "outputs": [
    {
     "data": {
      "text/plain": [
       "0"
      ]
     },
     "execution_count": 24,
     "metadata": {},
     "output_type": "execute_result"
    }
   ],
   "source": [
    "d.size()"
   ]
  },
  {
   "cell_type": "markdown",
   "id": "d3b4a793",
   "metadata": {},
   "source": [
    "# Iterview Question 1"
   ]
  },
  {
   "cell_type": "code",
   "execution_count": 9,
   "id": "c822c0e4",
   "metadata": {},
   "outputs": [],
   "source": [
    "def balance_cheak(s):\n",
    "    \n",
    "    if len(s)%2 != 0:\n",
    "        return False\n",
    "    \n",
    "    opening = set('([{')\n",
    "    matches = set([ ('(',')'), ('[',']'), ('{','}') ])\n",
    "    Stack =[]\n",
    "    \n",
    "    for paren in s:\n",
    "        if paren in opening:\n",
    "            Stack.append(paren)\n",
    "        else:\n",
    "            if len(Stack)==0:\n",
    "                return False\n",
    "            \n",
    "            last_open = Stack.pop()\n",
    "        \n",
    "            if (last_open,paren) not in matches:\n",
    "                return False\n",
    "        \n",
    "    return len(Stack)==0\n",
    "            "
   ]
  },
  {
   "cell_type": "code",
   "execution_count": 10,
   "id": "798c9fed",
   "metadata": {},
   "outputs": [
    {
     "data": {
      "text/plain": [
       "True"
      ]
     },
     "execution_count": 10,
     "metadata": {},
     "output_type": "execute_result"
    }
   ],
   "source": [
    "balance_cheak('([{}])')"
   ]
  },
  {
   "cell_type": "code",
   "execution_count": 11,
   "id": "b03e38f6",
   "metadata": {},
   "outputs": [
    {
     "data": {
      "text/plain": [
       "False"
      ]
     },
     "execution_count": 11,
     "metadata": {},
     "output_type": "execute_result"
    }
   ],
   "source": [
    "balance_cheak('[{}])')"
   ]
  },
  {
   "cell_type": "code",
   "execution_count": 12,
   "id": "8acd27b3",
   "metadata": {},
   "outputs": [
    {
     "data": {
      "text/plain": [
       "True"
      ]
     },
     "execution_count": 12,
     "metadata": {},
     "output_type": "execute_result"
    }
   ],
   "source": [
    "balance_cheak('([{}])')"
   ]
  },
  {
   "cell_type": "markdown",
   "id": "954d1858",
   "metadata": {},
   "source": [
    "# Iterview Question 2\n",
    "### Implement of queue using 2 stack"
   ]
  },
  {
   "cell_type": "code",
   "execution_count": 24,
   "id": "d75ff3e3",
   "metadata": {},
   "outputs": [],
   "source": [
    "class Queue2stack(object):\n",
    "    def __init__(self):\n",
    "        self.instack = []\n",
    "        self.outstack = []\n",
    "        \n",
    "    def enqueue(self,element):\n",
    "        self.instack.append(element)\n",
    "    \n",
    "    def dequeue(self):\n",
    "        if not self.outstack:\n",
    "            while self.instack:\n",
    "                self.outstack.append(self.instack.pop())\n",
    "        return self.outstack.pop()"
   ]
  },
  {
   "cell_type": "code",
   "execution_count": 25,
   "id": "c6e751af",
   "metadata": {},
   "outputs": [],
   "source": [
    "q = Queue2stack()"
   ]
  },
  {
   "cell_type": "code",
   "execution_count": 26,
   "id": "380d20b1",
   "metadata": {},
   "outputs": [
    {
     "name": "stdout",
     "output_type": "stream",
     "text": [
      "0\n",
      "1\n",
      "2\n",
      "3\n",
      "4\n"
     ]
    }
   ],
   "source": [
    "for i in range(5):\n",
    "    q.enqueue(i)\n",
    "for i in range(5):\n",
    "    print(q.dequeue())\n"
   ]
  },
  {
   "cell_type": "code",
   "execution_count": null,
   "id": "878f6a6d",
   "metadata": {},
   "outputs": [],
   "source": []
  }
 ],
 "metadata": {
  "kernelspec": {
   "display_name": "Python 3",
   "language": "python",
   "name": "python3"
  },
  "language_info": {
   "codemirror_mode": {
    "name": "ipython",
    "version": 3
   },
   "file_extension": ".py",
   "mimetype": "text/x-python",
   "name": "python",
   "nbconvert_exporter": "python",
   "pygments_lexer": "ipython3",
   "version": "3.8.8"
  }
 },
 "nbformat": 4,
 "nbformat_minor": 5
}
