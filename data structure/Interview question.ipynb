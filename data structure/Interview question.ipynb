{
 "cells": [
  {
   "cell_type": "markdown",
   "id": "9222a898",
   "metadata": {},
   "source": [
    "# 1] Anagram cheak inteview queastion"
   ]
  },
  {
   "cell_type": "code",
   "execution_count": 1,
   "id": "8d689f38",
   "metadata": {},
   "outputs": [],
   "source": [
    "def anagram(s1,s2):\n",
    "    if sorted(s1)==sorted(s2):\n",
    "        return True\n",
    "    else:\n",
    "        return False"
   ]
  },
  {
   "cell_type": "code",
   "execution_count": 2,
   "id": "82f15e79",
   "metadata": {},
   "outputs": [
    {
     "data": {
      "text/plain": [
       "True"
      ]
     },
     "execution_count": 2,
     "metadata": {},
     "output_type": "execute_result"
    }
   ],
   "source": [
    "anagram('dog','god')"
   ]
  },
  {
   "cell_type": "code",
   "execution_count": 3,
   "id": "1a4fafc0",
   "metadata": {},
   "outputs": [
    {
     "data": {
      "text/plain": [
       "False"
      ]
     },
     "execution_count": 3,
     "metadata": {},
     "output_type": "execute_result"
    }
   ],
   "source": [
    "anagram('aa','bb')"
   ]
  },
  {
   "cell_type": "markdown",
   "id": "6e7421a6",
   "metadata": {},
   "source": [
    "# 2] Array pair sum"
   ]
  },
  {
   "cell_type": "code",
   "execution_count": 76,
   "id": "4723ab2f",
   "metadata": {},
   "outputs": [
    {
     "name": "stdout",
     "output_type": "stream",
     "text": [
      "[(1, 3), (3, 1), (2, 2), (2, 2), (2, 2), (2, 2)]\n"
     ]
    }
   ],
   "source": [
    "pair = [1,3,2,2]\n",
    "b = 4\n",
    "print([(x,y) for x in pair for y in pair if x+y==b])"
   ]
  },
  {
   "cell_type": "markdown",
   "id": "4f0218da",
   "metadata": {},
   "source": [
    "### second example"
   ]
  },
  {
   "cell_type": "code",
   "execution_count": 77,
   "id": "322a4746",
   "metadata": {},
   "outputs": [],
   "source": [
    "def pair_sum(arr,k):\n",
    "    count = 0\n",
    "    valid = set()\n",
    "    for num in arr:\n",
    "        if k-num in valid:\n",
    "            count+=1\n",
    "        else:\n",
    "            valid.add(num)\n",
    "    return count\n",
    "    pass\n"
   ]
  },
  {
   "cell_type": "code",
   "execution_count": 78,
   "id": "86113e39",
   "metadata": {},
   "outputs": [
    {
     "data": {
      "text/plain": [
       "2"
      ]
     },
     "execution_count": 78,
     "metadata": {},
     "output_type": "execute_result"
    }
   ],
   "source": [
    "pair_sum([1,3,2,2],4)"
   ]
  },
  {
   "cell_type": "markdown",
   "id": "9466a786",
   "metadata": {},
   "source": [
    "### Third example"
   ]
  },
  {
   "cell_type": "code",
   "execution_count": 48,
   "id": "1cfdbd4e",
   "metadata": {},
   "outputs": [],
   "source": [
    "def pairSum(arrr,x):\n",
    "    if len(arrr)<2:\n",
    "        #print(\"arr is big\")\n",
    "        return\n",
    "        \n",
    "    seen = set()\n",
    "    output = set()\n",
    "    for num in arrr:\n",
    "        target = x-num\n",
    "        if target not in seen:\n",
    "            seen.add(num)\n",
    "        else:\n",
    "            output.add( ((min(num,target)),max(num,target)) )\n",
    "    #return len(output)\n",
    "    print('\\n'.join(map(str,list(output))))\n",
    "            \n",
    "    "
   ]
  },
  {
   "cell_type": "code",
   "execution_count": 45,
   "id": "cdfe405f",
   "metadata": {},
   "outputs": [
    {
     "name": "stdout",
     "output_type": "stream",
     "text": [
      "(1, 3)\n",
      "(2, 2)\n"
     ]
    }
   ],
   "source": [
    "pairSum([1,3,2,2],4)"
   ]
  },
  {
   "cell_type": "markdown",
   "id": "625d5f9e",
   "metadata": {},
   "source": [
    "# 3] Find missing elemnet"
   ]
  },
  {
   "cell_type": "code",
   "execution_count": 65,
   "id": "8b9ce3c1",
   "metadata": {},
   "outputs": [],
   "source": [
    "def finder(list1,list2):\n",
    "    for num in list1:\n",
    "        if num in list2:\n",
    "            pass\n",
    "        else:\n",
    "            print(num)"
   ]
  },
  {
   "cell_type": "code",
   "execution_count": 67,
   "id": "72c71039",
   "metadata": {},
   "outputs": [
    {
     "name": "stdout",
     "output_type": "stream",
     "text": [
      "3\n",
      "4\n"
     ]
    }
   ],
   "source": [
    "finder([1,2,3,4,5],[1,2,5])"
   ]
  },
  {
   "cell_type": "markdown",
   "id": "e5f7ae4e",
   "metadata": {},
   "source": [
    "## sencond solution"
   ]
  },
  {
   "cell_type": "code",
   "execution_count": 68,
   "id": "5b3437cf",
   "metadata": {},
   "outputs": [],
   "source": [
    "import collections"
   ]
  },
  {
   "cell_type": "code",
   "execution_count": 70,
   "id": "2580f695",
   "metadata": {},
   "outputs": [],
   "source": [
    "def finder2(arr1,arr2):\n",
    "    d = collections.defaultdict(int)\n",
    "    for num in arr2:\n",
    "        d[num]+=1\n",
    "    for num in arr1:\n",
    "        if d[num]==0:\n",
    "            return num\n",
    "        else:\n",
    "            d[num]-=1\n",
    "    "
   ]
  },
  {
   "cell_type": "code",
   "execution_count": 72,
   "id": "8f4ff00d",
   "metadata": {},
   "outputs": [
    {
     "data": {
      "text/plain": [
       "5"
      ]
     },
     "execution_count": 72,
     "metadata": {},
     "output_type": "execute_result"
    }
   ],
   "source": [
    "arr1=[5,5,7,7,]\n",
    "arr2=[5,7,7]\n",
    "finder2(arr1,arr2)"
   ]
  },
  {
   "cell_type": "markdown",
   "id": "60184fc4",
   "metadata": {},
   "source": [
    "# 4] Largest continues sum"
   ]
  },
  {
   "cell_type": "code",
   "execution_count": 84,
   "id": "db33b13e",
   "metadata": {},
   "outputs": [],
   "source": [
    "def large_sum(arr):\n",
    "    if len(arr)==0:\n",
    "        return 0\n",
    "    \n",
    "    max_sum = current_sum = arr[0]\n",
    "    \n",
    "    for num in arr[1:]:\n",
    "        current_sum = max(current_sum+num,num)\n",
    "        max_sum = max(current_sum,max_sum)\n",
    "    return max_sum\n",
    "    "
   ]
  },
  {
   "cell_type": "code",
   "execution_count": 85,
   "id": "4fc6d485",
   "metadata": {},
   "outputs": [
    {
     "data": {
      "text/plain": [
       "29"
      ]
     },
     "execution_count": 85,
     "metadata": {},
     "output_type": "execute_result"
    }
   ],
   "source": [
    "large_sum([1,2,-1,3,4,10,10,-10,-1])"
   ]
  },
  {
   "cell_type": "markdown",
   "id": "dc68bc87",
   "metadata": {},
   "source": [
    "# 5] Sentence Reversal"
   ]
  },
  {
   "cell_type": "code",
   "execution_count": 13,
   "id": "16cf2b9e",
   "metadata": {},
   "outputs": [],
   "source": [
    "def rev1(sen):\n",
    "    return \" \".join(reversed(sen.split()))\n",
    "#or\n",
    "def rev2(sen):\n",
    "    return \" \".join(sen.split()[::-1])"
   ]
  },
  {
   "cell_type": "code",
   "execution_count": 14,
   "id": "7c93741e",
   "metadata": {},
   "outputs": [
    {
     "data": {
      "text/plain": [
       "'kandale arun vishal'"
      ]
     },
     "execution_count": 14,
     "metadata": {},
     "output_type": "execute_result"
    }
   ],
   "source": [
    "rev1('vishal arun kandale')"
   ]
  },
  {
   "cell_type": "markdown",
   "id": "79aeaa34",
   "metadata": {},
   "source": [
    "# 6] String compression"
   ]
  },
  {
   "cell_type": "code",
   "execution_count": 24,
   "id": "0ac6c476",
   "metadata": {},
   "outputs": [],
   "source": [
    "def compres(s):\n",
    "    r = \"\"\n",
    "    l = len(s)\n",
    "    \n",
    "    if l == 0:\n",
    "        return \"\"\n",
    "    if l == 1:\n",
    "        return s +\"1\"\n",
    "\n",
    "    last = s[0]\n",
    "    count = 1\n",
    "    i = 1\n",
    "    \n",
    "    while i<1:\n",
    "        if s[i]==s[i-1]:\n",
    "            count += 1\n",
    "        else:\n",
    "            r = r + s[i-1] + str(count)\n",
    "            count = 1\n",
    "        i +=1\n",
    "    r = r + s[i-1] + str(count)\n",
    "    print(r)\n",
    "    \n",
    "    return r"
   ]
  },
  {
   "cell_type": "code",
   "execution_count": 28,
   "id": "d6f2b0b1",
   "metadata": {},
   "outputs": [
    {
     "name": "stdout",
     "output_type": "stream",
     "text": [
      "B1\n"
     ]
    },
    {
     "data": {
      "text/plain": [
       "'B1'"
      ]
     },
     "execution_count": 28,
     "metadata": {},
     "output_type": "execute_result"
    }
   ],
   "source": [
    "compres('BABB')"
   ]
  },
  {
   "cell_type": "markdown",
   "id": "9a907e17",
   "metadata": {},
   "source": [
    "# 7] Unique character in string"
   ]
  },
  {
   "cell_type": "code",
   "execution_count": 34,
   "id": "d48d663e",
   "metadata": {},
   "outputs": [],
   "source": [
    "def uni_chr1(s):\n",
    "    return len(set(s))==len(s)"
   ]
  },
  {
   "cell_type": "code",
   "execution_count": 37,
   "id": "44d57058",
   "metadata": {},
   "outputs": [
    {
     "data": {
      "text/plain": [
       "False"
      ]
     },
     "execution_count": 37,
     "metadata": {},
     "output_type": "execute_result"
    }
   ],
   "source": [
    "uni_chr1('abcda')"
   ]
  },
  {
   "cell_type": "code",
   "execution_count": 38,
   "id": "aa181946",
   "metadata": {},
   "outputs": [
    {
     "data": {
      "text/plain": [
       "True"
      ]
     },
     "execution_count": 38,
     "metadata": {},
     "output_type": "execute_result"
    }
   ],
   "source": [
    "uni_chr1('abcd')"
   ]
  },
  {
   "cell_type": "code",
   "execution_count": 41,
   "id": "8173a390",
   "metadata": {},
   "outputs": [],
   "source": [
    "def uni_chr2(s):\n",
    "    char = set()\n",
    "    for let in s:\n",
    "        if let in char:\n",
    "            return False\n",
    "        else:\n",
    "            char.add(let)\n",
    "    return True"
   ]
  },
  {
   "cell_type": "code",
   "execution_count": 42,
   "id": "39295d49",
   "metadata": {},
   "outputs": [
    {
     "data": {
      "text/plain": [
       "False"
      ]
     },
     "execution_count": 42,
     "metadata": {},
     "output_type": "execute_result"
    }
   ],
   "source": [
    "uni_chr2('abcda')"
   ]
  },
  {
   "cell_type": "code",
   "execution_count": 43,
   "id": "e021ae7b",
   "metadata": {},
   "outputs": [
    {
     "data": {
      "text/plain": [
       "True"
      ]
     },
     "execution_count": 43,
     "metadata": {},
     "output_type": "execute_result"
    }
   ],
   "source": [
    "uni_chr2('abcd')"
   ]
  },
  {
   "cell_type": "code",
   "execution_count": null,
   "id": "d3247de7",
   "metadata": {},
   "outputs": [],
   "source": []
  }
 ],
 "metadata": {
  "kernelspec": {
   "display_name": "Python 3",
   "language": "python",
   "name": "python3"
  },
  "language_info": {
   "codemirror_mode": {
    "name": "ipython",
    "version": 3
   },
   "file_extension": ".py",
   "mimetype": "text/x-python",
   "name": "python",
   "nbconvert_exporter": "python",
   "pygments_lexer": "ipython3",
   "version": "3.8.8"
  }
 },
 "nbformat": 4,
 "nbformat_minor": 5
}
