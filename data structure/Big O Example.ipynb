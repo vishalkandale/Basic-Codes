{
 "cells": [
  {
   "cell_type": "markdown",
   "id": "60d2809b",
   "metadata": {},
   "source": [
    "# O(1) constant"
   ]
  },
  {
   "cell_type": "code",
   "execution_count": 21,
   "id": "7b459317",
   "metadata": {},
   "outputs": [
    {
     "name": "stdout",
     "output_type": "stream",
     "text": [
      "1\n"
     ]
    }
   ],
   "source": [
    "def fun_const(n):\n",
    "    print(n[0])\n",
    "lst=[1,2,3,4,5,6]\n",
    "fun_const(lst)"
   ]
  },
  {
   "cell_type": "markdown",
   "id": "ba4ff503",
   "metadata": {},
   "source": [
    "# O(n) linear"
   ]
  },
  {
   "cell_type": "code",
   "execution_count": 22,
   "id": "a11bf34b",
   "metadata": {},
   "outputs": [],
   "source": [
    "def fun_linear(lst):\n",
    "    for n in lst:\n",
    "        print(n)\n"
   ]
  },
  {
   "cell_type": "code",
   "execution_count": 23,
   "id": "62429bc4",
   "metadata": {},
   "outputs": [
    {
     "name": "stdout",
     "output_type": "stream",
     "text": [
      "1\n",
      "2\n",
      "3\n",
      "4\n",
      "5\n",
      "6\n"
     ]
    }
   ],
   "source": [
    "fun_linear(lst)"
   ]
  },
  {
   "cell_type": "markdown",
   "id": "65ea2fe6",
   "metadata": {},
   "source": [
    "# O(n^2) Quadratic"
   ]
  },
  {
   "cell_type": "code",
   "execution_count": 24,
   "id": "608ca9dd",
   "metadata": {},
   "outputs": [],
   "source": [
    "def fun_quad(lst):\n",
    "    for item_1 in lst:\n",
    "        for item_2 in lst:\n",
    "            print(item_1,item_2)"
   ]
  },
  {
   "cell_type": "code",
   "execution_count": 25,
   "id": "9197bb2e",
   "metadata": {},
   "outputs": [
    {
     "name": "stdout",
     "output_type": "stream",
     "text": [
      "1 1\n",
      "1 2\n",
      "1 3\n",
      "2 1\n",
      "2 2\n",
      "2 3\n",
      "3 1\n",
      "3 2\n",
      "3 3\n"
     ]
    }
   ],
   "source": [
    "lst = [1,2,3]\n",
    "fun_quad(lst)"
   ]
  },
  {
   "cell_type": "code",
   "execution_count": 28,
   "id": "9c202fec",
   "metadata": {},
   "outputs": [],
   "source": [
    "def print_once(lst):#O(n)\n",
    "    for val in lst:\n",
    "        print(val)"
   ]
  },
  {
   "cell_type": "code",
   "execution_count": 29,
   "id": "7765df5c",
   "metadata": {},
   "outputs": [
    {
     "name": "stdout",
     "output_type": "stream",
     "text": [
      "1\n",
      "2\n",
      "3\n"
     ]
    }
   ],
   "source": [
    "print_once(lst)"
   ]
  },
  {
   "cell_type": "code",
   "execution_count": 31,
   "id": "d4bdfd65",
   "metadata": {},
   "outputs": [],
   "source": [
    "def print_2(lst):#O(n)\n",
    "    for val in lst:\n",
    "        print(val)\n",
    "    for val in lst:\n",
    "        print(val)"
   ]
  },
  {
   "cell_type": "code",
   "execution_count": 32,
   "id": "3a29d33d",
   "metadata": {},
   "outputs": [
    {
     "name": "stdout",
     "output_type": "stream",
     "text": [
      "1\n",
      "2\n",
      "3\n",
      "1\n",
      "2\n",
      "3\n"
     ]
    }
   ],
   "source": [
    "print_2(lst)"
   ]
  },
  {
   "cell_type": "markdown",
   "id": "03feda3a",
   "metadata": {},
   "source": [
    "# O( n + n/2 + 10)\n",
    "\n",
    "# O(n)"
   ]
  },
  {
   "cell_type": "code",
   "execution_count": 46,
   "id": "6d3058a9",
   "metadata": {},
   "outputs": [],
   "source": [
    "def ex(lst):\n",
    "    print(lst[0])#O(1)\n",
    "    \n",
    "    ##### O(n/2)\n",
    "    midpoint = len(lst)/2\n",
    "    for val in lst[:int(midpoint)]:\n",
    "        print(val)\n",
    "        \n",
    "    #### O(10)    \n",
    "    for x in range(10):\n",
    "        print(\"helllo\")"
   ]
  },
  {
   "cell_type": "code",
   "execution_count": 47,
   "id": "4d45f4f7",
   "metadata": {},
   "outputs": [
    {
     "name": "stdout",
     "output_type": "stream",
     "text": [
      "1\n",
      "1\n",
      "2\n",
      "3\n",
      "helllo\n",
      "helllo\n",
      "helllo\n",
      "helllo\n",
      "helllo\n",
      "helllo\n",
      "helllo\n",
      "helllo\n",
      "helllo\n",
      "helllo\n"
     ]
    }
   ],
   "source": [
    "lst = [1,2,3,4,5,6,7]\n",
    "ex(lst)"
   ]
  },
  {
   "cell_type": "markdown",
   "id": "97a0b728",
   "metadata": {},
   "source": [
    "# cheak O(1) and O(n)"
   ]
  },
  {
   "cell_type": "code",
   "execution_count": 59,
   "id": "aee3d4a6",
   "metadata": {},
   "outputs": [],
   "source": [
    "def cheak(lst,match):\n",
    "    for item in lst:\n",
    "        if item == match:\n",
    "            return True\n",
    "    return False"
   ]
  },
  {
   "cell_type": "code",
   "execution_count": 60,
   "id": "bafa65a4",
   "metadata": {},
   "outputs": [
    {
     "data": {
      "text/plain": [
       "[1, 2, 3, 4, 5, 6, 7]"
      ]
     },
     "execution_count": 60,
     "metadata": {},
     "output_type": "execute_result"
    }
   ],
   "source": [
    "lst"
   ]
  },
  {
   "cell_type": "code",
   "execution_count": 61,
   "id": "44ac52a3",
   "metadata": {},
   "outputs": [
    {
     "data": {
      "text/plain": [
       "True"
      ]
     },
     "execution_count": 61,
     "metadata": {},
     "output_type": "execute_result"
    }
   ],
   "source": [
    "cheak(lst,1)#O(1)"
   ]
  },
  {
   "cell_type": "code",
   "execution_count": 62,
   "id": "cd8a3566",
   "metadata": {},
   "outputs": [
    {
     "data": {
      "text/plain": [
       "False"
      ]
     },
     "execution_count": 62,
     "metadata": {},
     "output_type": "execute_result"
    }
   ],
   "source": [
    "cheak(lst,10)#O(n)"
   ]
  },
  {
   "cell_type": "code",
   "execution_count": 63,
   "id": "22789832",
   "metadata": {},
   "outputs": [],
   "source": [
    "def creat_list(n):\n",
    "    my_list = []\n",
    "    for i in range(n):\n",
    "        my_list.append(\"new\")\n",
    "    return my_list"
   ]
  },
  {
   "cell_type": "code",
   "execution_count": 64,
   "id": "2888ecab",
   "metadata": {},
   "outputs": [
    {
     "data": {
      "text/plain": [
       "['new', 'new', 'new', 'new', 'new']"
      ]
     },
     "execution_count": 64,
     "metadata": {},
     "output_type": "execute_result"
    }
   ],
   "source": [
    "creat_list(5)"
   ]
  },
  {
   "cell_type": "code",
   "execution_count": 65,
   "id": "1bc57513",
   "metadata": {},
   "outputs": [],
   "source": [
    "def printer(n):\n",
    "    for i in range(n):# Time complexity O(n)\n",
    "        print(\"hello\") # space complexity O(1)"
   ]
  },
  {
   "cell_type": "code",
   "execution_count": 66,
   "id": "b7b95e8a",
   "metadata": {},
   "outputs": [
    {
     "name": "stdout",
     "output_type": "stream",
     "text": [
      "hello\n",
      "hello\n",
      "hello\n",
      "hello\n",
      "hello\n",
      "hello\n",
      "hello\n",
      "hello\n",
      "hello\n",
      "hello\n"
     ]
    }
   ],
   "source": [
    "printer(10)"
   ]
  },
  {
   "cell_type": "code",
   "execution_count": null,
   "id": "4a42f8cc",
   "metadata": {},
   "outputs": [],
   "source": []
  }
 ],
 "metadata": {
  "kernelspec": {
   "display_name": "Python 3",
   "language": "python",
   "name": "python3"
  },
  "language_info": {
   "codemirror_mode": {
    "name": "ipython",
    "version": 3
   },
   "file_extension": ".py",
   "mimetype": "text/x-python",
   "name": "python",
   "nbconvert_exporter": "python",
   "pygments_lexer": "ipython3",
   "version": "3.8.8"
  }
 },
 "nbformat": 4,
 "nbformat_minor": 5
}
